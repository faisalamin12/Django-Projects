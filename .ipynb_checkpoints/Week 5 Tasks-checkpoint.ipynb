{
 "cells": [
  {
   "cell_type": "markdown",
   "metadata": {},
   "source": [
    "Write a python program and extract data from a dictionary according to given output.\n",
    "people = {1:{\"shadu\":\"nagin\", \"gender\":\"Male\"}\n",
    "          2:{\"Arqam\":\"naag\",\"gender\":\"Male\" }}\n",
    "\n",
    "output: naag\n",
    "        Male"
   ]
  },
  {
   "cell_type": "code",
   "execution_count": null,
   "metadata": {},
   "outputs": [],
   "source": [
    "people = {1:{\"shadu\":\"nagin\", \"gender\":\"Male\"},\n",
    "          2:{\"Arqam\":\"naag\",\"gender\":\"Male\" }}\n",
    "\n",
    "people[1]\n"
   ]
  },
  {
   "cell_type": "markdown",
   "metadata": {},
   "source": [
    "How to itrate on above dictionary and get expected output.\n",
    "\n",
    "output: people_1 id:\n",
    "        shadu : nagin\n",
    "        gender: Male\n",
    "        \n",
    "        people_2 id:\n",
    "        Arqam : naag\n",
    "        gender: Male\n",
    "        "
   ]
  },
  {
   "cell_type": "code",
   "execution_count": null,
   "metadata": {},
   "outputs": [],
   "source": []
  },
  {
   "cell_type": "markdown",
   "metadata": {},
   "source": [
    "Write a secret word in your program and user guesses a word. if it is, the game finishes. if it is not equal, ask the user to play again and count the number of times that user made guess."
   ]
  },
  {
   "cell_type": "code",
   "execution_count": null,
   "metadata": {},
   "outputs": [],
   "source": []
  },
  {
   "cell_type": "markdown",
   "metadata": {},
   "source": [
    "write a program that takes input from user in the form of text and count the space."
   ]
  },
  {
   "cell_type": "code",
   "execution_count": null,
   "metadata": {},
   "outputs": [],
   "source": []
  },
  {
   "cell_type": "markdown",
   "metadata": {},
   "source": [
    "Write a python program that print the sum of first 5 integer number."
   ]
  },
  {
   "cell_type": "code",
   "execution_count": null,
   "metadata": {},
   "outputs": [],
   "source": []
  }
 ],
 "metadata": {
  "kernelspec": {
   "display_name": "Python 3",
   "language": "python",
   "name": "python3"
  },
  "language_info": {
   "codemirror_mode": {
    "name": "ipython",
    "version": 3
   },
   "file_extension": ".py",
   "mimetype": "text/x-python",
   "name": "python",
   "nbconvert_exporter": "python",
   "pygments_lexer": "ipython3",
   "version": "3.7.3"
  }
 },
 "nbformat": 4,
 "nbformat_minor": 2
}
